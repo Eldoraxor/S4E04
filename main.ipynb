{
 "cells": [
  {
   "cell_type": "code",
   "execution_count": 1,
   "metadata": {},
   "outputs": [],
   "source": [
    "#!kaggle competitions download -c playground-series-s4e4"
   ]
  },
  {
   "cell_type": "markdown",
   "metadata": {},
   "source": [
    "# Import libraries"
   ]
  },
  {
   "cell_type": "code",
   "execution_count": 2,
   "metadata": {},
   "outputs": [],
   "source": [
    "import pandas as pd"
   ]
  },
  {
   "cell_type": "markdown",
   "metadata": {},
   "source": [
    "# Import data"
   ]
  },
  {
   "cell_type": "code",
   "execution_count": 3,
   "metadata": {},
   "outputs": [],
   "source": [
    "submission_df = pd.read_csv(\"data/sample_submission.csv\")\n",
    "test_df = pd.read_csv(\"data/test.csv\")\n",
    "train_df = pd.read_csv(\"data/train.csv\")"
   ]
  },
  {
   "cell_type": "markdown",
   "metadata": {},
   "source": [
    "# Data exploration"
   ]
  },
  {
   "cell_type": "code",
   "execution_count": 4,
   "metadata": {},
   "outputs": [
    {
     "data": {
      "text/html": [
       "<div>\n",
       "<style scoped>\n",
       "    .dataframe tbody tr th:only-of-type {\n",
       "        vertical-align: middle;\n",
       "    }\n",
       "\n",
       "    .dataframe tbody tr th {\n",
       "        vertical-align: top;\n",
       "    }\n",
       "\n",
       "    .dataframe thead th {\n",
       "        text-align: right;\n",
       "    }\n",
       "</style>\n",
       "<table border=\"1\" class=\"dataframe\">\n",
       "  <thead>\n",
       "    <tr style=\"text-align: right;\">\n",
       "      <th></th>\n",
       "      <th>id</th>\n",
       "      <th>Sex</th>\n",
       "      <th>Length</th>\n",
       "      <th>Diameter</th>\n",
       "      <th>Height</th>\n",
       "      <th>Whole weight</th>\n",
       "      <th>Whole weight.1</th>\n",
       "      <th>Whole weight.2</th>\n",
       "      <th>Shell weight</th>\n",
       "      <th>Rings</th>\n",
       "    </tr>\n",
       "  </thead>\n",
       "  <tbody>\n",
       "    <tr>\n",
       "      <th>0</th>\n",
       "      <td>0</td>\n",
       "      <td>F</td>\n",
       "      <td>0.550</td>\n",
       "      <td>0.430</td>\n",
       "      <td>0.150</td>\n",
       "      <td>0.7715</td>\n",
       "      <td>0.3285</td>\n",
       "      <td>0.1465</td>\n",
       "      <td>0.2400</td>\n",
       "      <td>11</td>\n",
       "    </tr>\n",
       "    <tr>\n",
       "      <th>1</th>\n",
       "      <td>1</td>\n",
       "      <td>F</td>\n",
       "      <td>0.630</td>\n",
       "      <td>0.490</td>\n",
       "      <td>0.145</td>\n",
       "      <td>1.1300</td>\n",
       "      <td>0.4580</td>\n",
       "      <td>0.2765</td>\n",
       "      <td>0.3200</td>\n",
       "      <td>11</td>\n",
       "    </tr>\n",
       "    <tr>\n",
       "      <th>2</th>\n",
       "      <td>2</td>\n",
       "      <td>I</td>\n",
       "      <td>0.160</td>\n",
       "      <td>0.110</td>\n",
       "      <td>0.025</td>\n",
       "      <td>0.0210</td>\n",
       "      <td>0.0055</td>\n",
       "      <td>0.0030</td>\n",
       "      <td>0.0050</td>\n",
       "      <td>6</td>\n",
       "    </tr>\n",
       "    <tr>\n",
       "      <th>3</th>\n",
       "      <td>3</td>\n",
       "      <td>M</td>\n",
       "      <td>0.595</td>\n",
       "      <td>0.475</td>\n",
       "      <td>0.150</td>\n",
       "      <td>0.9145</td>\n",
       "      <td>0.3755</td>\n",
       "      <td>0.2055</td>\n",
       "      <td>0.2500</td>\n",
       "      <td>10</td>\n",
       "    </tr>\n",
       "    <tr>\n",
       "      <th>4</th>\n",
       "      <td>4</td>\n",
       "      <td>I</td>\n",
       "      <td>0.555</td>\n",
       "      <td>0.425</td>\n",
       "      <td>0.130</td>\n",
       "      <td>0.7820</td>\n",
       "      <td>0.3695</td>\n",
       "      <td>0.1600</td>\n",
       "      <td>0.1975</td>\n",
       "      <td>9</td>\n",
       "    </tr>\n",
       "  </tbody>\n",
       "</table>\n",
       "</div>"
      ],
      "text/plain": [
       "   id Sex  Length  Diameter  Height  Whole weight  Whole weight.1  \\\n",
       "0   0   F   0.550     0.430   0.150        0.7715          0.3285   \n",
       "1   1   F   0.630     0.490   0.145        1.1300          0.4580   \n",
       "2   2   I   0.160     0.110   0.025        0.0210          0.0055   \n",
       "3   3   M   0.595     0.475   0.150        0.9145          0.3755   \n",
       "4   4   I   0.555     0.425   0.130        0.7820          0.3695   \n",
       "\n",
       "   Whole weight.2  Shell weight  Rings  \n",
       "0          0.1465        0.2400     11  \n",
       "1          0.2765        0.3200     11  \n",
       "2          0.0030        0.0050      6  \n",
       "3          0.2055        0.2500     10  \n",
       "4          0.1600        0.1975      9  "
      ]
     },
     "execution_count": 4,
     "metadata": {},
     "output_type": "execute_result"
    }
   ],
   "source": [
    "train_df.head()"
   ]
  },
  {
   "cell_type": "code",
   "execution_count": 5,
   "metadata": {},
   "outputs": [
    {
     "data": {
      "text/plain": [
       "id                0\n",
       "Sex               0\n",
       "Length            0\n",
       "Diameter          0\n",
       "Height            0\n",
       "Whole weight      0\n",
       "Whole weight.1    0\n",
       "Whole weight.2    0\n",
       "Shell weight      0\n",
       "Rings             0\n",
       "dtype: int64"
      ]
     },
     "execution_count": 5,
     "metadata": {},
     "output_type": "execute_result"
    }
   ],
   "source": [
    "train_df.isna().sum()"
   ]
  },
  {
   "cell_type": "markdown",
   "metadata": {},
   "source": [
    "No missing data"
   ]
  },
  {
   "cell_type": "code",
   "execution_count": 6,
   "metadata": {},
   "outputs": [
    {
     "name": "stdout",
     "output_type": "stream",
     "text": [
      "<class 'pandas.core.frame.DataFrame'>\n",
      "RangeIndex: 90615 entries, 0 to 90614\n",
      "Data columns (total 10 columns):\n",
      " #   Column          Non-Null Count  Dtype  \n",
      "---  ------          --------------  -----  \n",
      " 0   id              90615 non-null  int64  \n",
      " 1   Sex             90615 non-null  object \n",
      " 2   Length          90615 non-null  float64\n",
      " 3   Diameter        90615 non-null  float64\n",
      " 4   Height          90615 non-null  float64\n",
      " 5   Whole weight    90615 non-null  float64\n",
      " 6   Whole weight.1  90615 non-null  float64\n",
      " 7   Whole weight.2  90615 non-null  float64\n",
      " 8   Shell weight    90615 non-null  float64\n",
      " 9   Rings           90615 non-null  int64  \n",
      "dtypes: float64(7), int64(2), object(1)\n",
      "memory usage: 6.9+ MB\n"
     ]
    }
   ],
   "source": [
    "train_df.info()"
   ]
  },
  {
   "cell_type": "markdown",
   "metadata": {},
   "source": [
    "Only \"Sex\" column is object type so we'll need to encode it."
   ]
  },
  {
   "cell_type": "markdown",
   "metadata": {},
   "source": [
    "# Column encoding"
   ]
  },
  {
   "cell_type": "code",
   "execution_count": 7,
   "metadata": {},
   "outputs": [],
   "source": [
    "from sklearn.preprocessing import OneHotEncoder\n",
    "\n",
    "OHE = OneHotEncoder(sparse_output=False)\n",
    "new_cols = pd.DataFrame(OHE.fit_transform(train_df[[\"Sex\"]]), columns=OHE.get_feature_names_out())\n",
    "new_cols.index = train_df.index\n",
    "train = pd.concat([new_cols, train_df.drop([\"Sex\"], axis=1, inplace=False)], axis=1)"
   ]
  },
  {
   "cell_type": "markdown",
   "metadata": {},
   "source": [
    "# Model"
   ]
  },
  {
   "cell_type": "code",
   "execution_count": 26,
   "metadata": {},
   "outputs": [],
   "source": [
    "from sklearn.model_selection import KFold, RepeatedStratifiedKFold, cross_val_score\n",
    "from sklearn.ensemble import RandomForestClassifier, RandomForestRegressor\n",
    "from xgboost import XGBClassifier, XGBRegressor\n",
    "from lightgbm import LGBMClassifier, LGBMRegressor"
   ]
  },
  {
   "cell_type": "code",
   "execution_count": 52,
   "metadata": {},
   "outputs": [],
   "source": [
    "X = train.drop([\"id\", \"Rings\", \"Sex_M\"], axis=1)\n",
    "y = train[\"Rings\"]"
   ]
  },
  {
   "cell_type": "code",
   "execution_count": 10,
   "metadata": {},
   "outputs": [],
   "source": [
    "skf = RepeatedStratifiedKFold(n_splits=5, n_repeats=2, random_state=42)"
   ]
  },
  {
   "cell_type": "code",
   "execution_count": 57,
   "metadata": {},
   "outputs": [
    {
     "name": "stdout",
     "output_type": "stream",
     "text": [
      "[LightGBM] [Warning] Found whitespace in feature_names, replace with underlines\n",
      "[LightGBM] [Info] Total Bins 1332\n",
      "[LightGBM] [Info] Number of data points in the train set: 72492, number of used features: 9\n",
      "[LightGBM] [Info] Start training from score 9.697001\n",
      "[LightGBM] [Warning] Found whitespace in feature_names, replace with underlines\n",
      "[LightGBM] [Info] Total Bins 1330\n",
      "[LightGBM] [Info] Number of data points in the train set: 72492, number of used features: 9\n",
      "[LightGBM] [Info] Start training from score 9.697084\n",
      "[LightGBM] [Warning] Found whitespace in feature_names, replace with underlines\n",
      "[LightGBM] [Info] Total Bins 1330\n",
      "[LightGBM] [Info] Number of data points in the train set: 72492, number of used features: 9\n",
      "[LightGBM] [Info] Start training from score 9.696698\n",
      "[LightGBM] [Warning] Found whitespace in feature_names, replace with underlines\n",
      "[LightGBM] [Info] Total Bins 1330\n",
      "[LightGBM] [Info] Number of data points in the train set: 72492, number of used features: 9\n",
      "[LightGBM] [Info] Start training from score 9.696601\n",
      "[LightGBM] [Warning] Found whitespace in feature_names, replace with underlines\n",
      "[LightGBM] [Info] Total Bins 1331\n",
      "[LightGBM] [Info] Number of data points in the train set: 72492, number of used features: 9\n",
      "[LightGBM] [Info] Start training from score 9.696587\n",
      "[LightGBM] [Warning] Found whitespace in feature_names, replace with underlines\n",
      "[LightGBM] [Info] Total Bins 1329\n",
      "[LightGBM] [Info] Number of data points in the train set: 72492, number of used features: 9\n",
      "[LightGBM] [Info] Start training from score 9.697001\n",
      "[LightGBM] [Warning] Found whitespace in feature_names, replace with underlines\n",
      "[LightGBM] [Info] Total Bins 1332\n",
      "[LightGBM] [Info] Number of data points in the train set: 72492, number of used features: 9\n",
      "[LightGBM] [Info] Start training from score 9.697084\n",
      "[LightGBM] [Warning] Found whitespace in feature_names, replace with underlines\n",
      "[LightGBM] [Info] Total Bins 1329\n",
      "[LightGBM] [Info] Number of data points in the train set: 72492, number of used features: 9\n",
      "[LightGBM] [Info] Start training from score 9.696698\n",
      "[LightGBM] [Warning] Found whitespace in feature_names, replace with underlines\n",
      "[LightGBM] [Info] Total Bins 1334\n",
      "[LightGBM] [Info] Number of data points in the train set: 72492, number of used features: 9\n",
      "[LightGBM] [Info] Start training from score 9.696601\n",
      "[LightGBM] [Warning] Found whitespace in feature_names, replace with underlines\n",
      "[LightGBM] [Info] Total Bins 1330\n",
      "[LightGBM] [Info] Number of data points in the train set: 72492, number of used features: 9\n",
      "[LightGBM] [Info] Start training from score 9.696587\n",
      "[LightGBM] [Warning] Found whitespace in feature_names, replace with underlines\n",
      "[LightGBM] [Info] Total Bins 1335\n",
      "[LightGBM] [Info] Number of data points in the train set: 90615, number of used features: 9\n",
      "[LightGBM] [Info] Start training from score 9.696794\n",
      "0.150363649383683\n"
     ]
    }
   ],
   "source": [
    "lgbm_model = LGBMRegressor(force_col_wise=True)\n",
    "score = cross_val_score(lgbm_model, X, y, scoring=\"neg_root_mean_squared_log_error\", cv=skf)\n",
    "lgbm_model.fit(X, y)\n",
    "print(-score.mean())"
   ]
  },
  {
   "cell_type": "code",
   "execution_count": 25,
   "metadata": {},
   "outputs": [
    {
     "name": "stdout",
     "output_type": "stream",
     "text": [
      "0.15119600774352782\n"
     ]
    }
   ],
   "source": [
    "xgb_model = XGBRegressor()\n",
    "score = cross_val_score(xgb_model, X, y, scoring=\"neg_root_mean_squared_log_error\", cv=skf)\n",
    "print(-score.mean())"
   ]
  },
  {
   "cell_type": "code",
   "execution_count": 29,
   "metadata": {},
   "outputs": [
    {
     "name": "stdout",
     "output_type": "stream",
     "text": [
      "0.15756327572947174\n"
     ]
    }
   ],
   "source": [
    "rf_model = RandomForestRegressor(n_estimators=20)\n",
    "score = cross_val_score(rf_model, X, y, scoring=\"neg_root_mean_squared_log_error\", cv=skf)\n",
    "print(-score.mean())"
   ]
  },
  {
   "cell_type": "code",
   "execution_count": 34,
   "metadata": {},
   "outputs": [
    {
     "name": "stdout",
     "output_type": "stream",
     "text": [
      "[LightGBM] [Warning] Found whitespace in feature_names, replace with underlines\n",
      "[LightGBM] [Info] Total Bins 1337\n",
      "[LightGBM] [Info] Number of data points in the train set: 90615, number of used features: 10\n",
      "[LightGBM] [Info] Start training from score 9.696794\n"
     ]
    }
   ],
   "source": [
    "from sklearn.inspection import permutation_importance\n",
    "\n",
    "lgbm_model.fit(X, y)\n",
    "result = permutation_importance(lgbm_model, X, y, scoring=\"neg_root_mean_squared_log_error\", n_repeats=10, random_state=0)"
   ]
  },
  {
   "cell_type": "code",
   "execution_count": 35,
   "metadata": {},
   "outputs": [
    {
     "name": "stdout",
     "output_type": "stream",
     "text": [
      "0           Sex_F 0.00024410552367450656\n",
      "9    Shell weight               0.191138\n",
      "7  Whole weight.1               0.115089\n",
      "6    Whole weight               0.053539\n",
      "5          Height               0.035364\n",
      "8  Whole weight.2               0.008865\n",
      "3          Length               0.007151\n",
      "1           Sex_I               0.006074\n",
      "4        Diameter               0.004963\n",
      "2           Sex_M               0.000029\n"
     ]
    }
   ],
   "source": [
    "df = pd.DataFrame([list(X.columns), list(result.importances_mean)])\n",
    "df = df.T\n",
    "df.columns = df.iloc[0]\n",
    "df = df[1:]\n",
    "df = df.sort_values(by=df.columns[1], ascending=False)\n",
    "print(df)"
   ]
  },
  {
   "cell_type": "markdown",
   "metadata": {},
   "source": [
    "# Submission"
   ]
  },
  {
   "cell_type": "code",
   "execution_count": 54,
   "metadata": {},
   "outputs": [
    {
     "data": {
      "text/html": [
       "<div>\n",
       "<style scoped>\n",
       "    .dataframe tbody tr th:only-of-type {\n",
       "        vertical-align: middle;\n",
       "    }\n",
       "\n",
       "    .dataframe tbody tr th {\n",
       "        vertical-align: top;\n",
       "    }\n",
       "\n",
       "    .dataframe thead th {\n",
       "        text-align: right;\n",
       "    }\n",
       "</style>\n",
       "<table border=\"1\" class=\"dataframe\">\n",
       "  <thead>\n",
       "    <tr style=\"text-align: right;\">\n",
       "      <th></th>\n",
       "      <th>Sex_F</th>\n",
       "      <th>Sex_I</th>\n",
       "      <th>Sex_M</th>\n",
       "      <th>id</th>\n",
       "      <th>Length</th>\n",
       "      <th>Diameter</th>\n",
       "      <th>Height</th>\n",
       "      <th>Whole weight</th>\n",
       "      <th>Whole weight.1</th>\n",
       "      <th>Whole weight.2</th>\n",
       "      <th>Shell weight</th>\n",
       "    </tr>\n",
       "  </thead>\n",
       "  <tbody>\n",
       "    <tr>\n",
       "      <th>0</th>\n",
       "      <td>0.0</td>\n",
       "      <td>0.0</td>\n",
       "      <td>1.0</td>\n",
       "      <td>90615</td>\n",
       "      <td>0.645</td>\n",
       "      <td>0.475</td>\n",
       "      <td>0.155</td>\n",
       "      <td>1.2380</td>\n",
       "      <td>0.6185</td>\n",
       "      <td>0.3125</td>\n",
       "      <td>0.3005</td>\n",
       "    </tr>\n",
       "    <tr>\n",
       "      <th>1</th>\n",
       "      <td>0.0</td>\n",
       "      <td>0.0</td>\n",
       "      <td>1.0</td>\n",
       "      <td>90616</td>\n",
       "      <td>0.580</td>\n",
       "      <td>0.460</td>\n",
       "      <td>0.160</td>\n",
       "      <td>0.9830</td>\n",
       "      <td>0.4785</td>\n",
       "      <td>0.2195</td>\n",
       "      <td>0.2750</td>\n",
       "    </tr>\n",
       "    <tr>\n",
       "      <th>2</th>\n",
       "      <td>0.0</td>\n",
       "      <td>0.0</td>\n",
       "      <td>1.0</td>\n",
       "      <td>90617</td>\n",
       "      <td>0.560</td>\n",
       "      <td>0.420</td>\n",
       "      <td>0.140</td>\n",
       "      <td>0.8395</td>\n",
       "      <td>0.3525</td>\n",
       "      <td>0.1845</td>\n",
       "      <td>0.2405</td>\n",
       "    </tr>\n",
       "    <tr>\n",
       "      <th>3</th>\n",
       "      <td>0.0</td>\n",
       "      <td>0.0</td>\n",
       "      <td>1.0</td>\n",
       "      <td>90618</td>\n",
       "      <td>0.570</td>\n",
       "      <td>0.490</td>\n",
       "      <td>0.145</td>\n",
       "      <td>0.8740</td>\n",
       "      <td>0.3525</td>\n",
       "      <td>0.1865</td>\n",
       "      <td>0.2350</td>\n",
       "    </tr>\n",
       "    <tr>\n",
       "      <th>4</th>\n",
       "      <td>0.0</td>\n",
       "      <td>1.0</td>\n",
       "      <td>0.0</td>\n",
       "      <td>90619</td>\n",
       "      <td>0.415</td>\n",
       "      <td>0.325</td>\n",
       "      <td>0.110</td>\n",
       "      <td>0.3580</td>\n",
       "      <td>0.1575</td>\n",
       "      <td>0.0670</td>\n",
       "      <td>0.1050</td>\n",
       "    </tr>\n",
       "    <tr>\n",
       "      <th>...</th>\n",
       "      <td>...</td>\n",
       "      <td>...</td>\n",
       "      <td>...</td>\n",
       "      <td>...</td>\n",
       "      <td>...</td>\n",
       "      <td>...</td>\n",
       "      <td>...</td>\n",
       "      <td>...</td>\n",
       "      <td>...</td>\n",
       "      <td>...</td>\n",
       "      <td>...</td>\n",
       "    </tr>\n",
       "    <tr>\n",
       "      <th>60406</th>\n",
       "      <td>0.0</td>\n",
       "      <td>1.0</td>\n",
       "      <td>0.0</td>\n",
       "      <td>151021</td>\n",
       "      <td>0.345</td>\n",
       "      <td>0.260</td>\n",
       "      <td>0.085</td>\n",
       "      <td>0.1775</td>\n",
       "      <td>0.0735</td>\n",
       "      <td>0.0265</td>\n",
       "      <td>0.0500</td>\n",
       "    </tr>\n",
       "    <tr>\n",
       "      <th>60407</th>\n",
       "      <td>1.0</td>\n",
       "      <td>0.0</td>\n",
       "      <td>0.0</td>\n",
       "      <td>151022</td>\n",
       "      <td>0.525</td>\n",
       "      <td>0.410</td>\n",
       "      <td>0.145</td>\n",
       "      <td>0.8445</td>\n",
       "      <td>0.3885</td>\n",
       "      <td>0.1670</td>\n",
       "      <td>0.2050</td>\n",
       "    </tr>\n",
       "    <tr>\n",
       "      <th>60408</th>\n",
       "      <td>0.0</td>\n",
       "      <td>1.0</td>\n",
       "      <td>0.0</td>\n",
       "      <td>151023</td>\n",
       "      <td>0.590</td>\n",
       "      <td>0.440</td>\n",
       "      <td>0.155</td>\n",
       "      <td>1.1220</td>\n",
       "      <td>0.3930</td>\n",
       "      <td>0.2000</td>\n",
       "      <td>0.2650</td>\n",
       "    </tr>\n",
       "    <tr>\n",
       "      <th>60409</th>\n",
       "      <td>1.0</td>\n",
       "      <td>0.0</td>\n",
       "      <td>0.0</td>\n",
       "      <td>151024</td>\n",
       "      <td>0.660</td>\n",
       "      <td>0.525</td>\n",
       "      <td>0.190</td>\n",
       "      <td>1.4935</td>\n",
       "      <td>0.5885</td>\n",
       "      <td>0.3575</td>\n",
       "      <td>0.4350</td>\n",
       "    </tr>\n",
       "    <tr>\n",
       "      <th>60410</th>\n",
       "      <td>1.0</td>\n",
       "      <td>0.0</td>\n",
       "      <td>0.0</td>\n",
       "      <td>151025</td>\n",
       "      <td>0.430</td>\n",
       "      <td>0.340</td>\n",
       "      <td>0.120</td>\n",
       "      <td>0.4150</td>\n",
       "      <td>0.1525</td>\n",
       "      <td>0.0910</td>\n",
       "      <td>0.0905</td>\n",
       "    </tr>\n",
       "  </tbody>\n",
       "</table>\n",
       "<p>60411 rows × 11 columns</p>\n",
       "</div>"
      ],
      "text/plain": [
       "       Sex_F  Sex_I  Sex_M      id  Length  Diameter  Height  Whole weight  \\\n",
       "0        0.0    0.0    1.0   90615   0.645     0.475   0.155        1.2380   \n",
       "1        0.0    0.0    1.0   90616   0.580     0.460   0.160        0.9830   \n",
       "2        0.0    0.0    1.0   90617   0.560     0.420   0.140        0.8395   \n",
       "3        0.0    0.0    1.0   90618   0.570     0.490   0.145        0.8740   \n",
       "4        0.0    1.0    0.0   90619   0.415     0.325   0.110        0.3580   \n",
       "...      ...    ...    ...     ...     ...       ...     ...           ...   \n",
       "60406    0.0    1.0    0.0  151021   0.345     0.260   0.085        0.1775   \n",
       "60407    1.0    0.0    0.0  151022   0.525     0.410   0.145        0.8445   \n",
       "60408    0.0    1.0    0.0  151023   0.590     0.440   0.155        1.1220   \n",
       "60409    1.0    0.0    0.0  151024   0.660     0.525   0.190        1.4935   \n",
       "60410    1.0    0.0    0.0  151025   0.430     0.340   0.120        0.4150   \n",
       "\n",
       "       Whole weight.1  Whole weight.2  Shell weight  \n",
       "0              0.6185          0.3125        0.3005  \n",
       "1              0.4785          0.2195        0.2750  \n",
       "2              0.3525          0.1845        0.2405  \n",
       "3              0.3525          0.1865        0.2350  \n",
       "4              0.1575          0.0670        0.1050  \n",
       "...               ...             ...           ...  \n",
       "60406          0.0735          0.0265        0.0500  \n",
       "60407          0.3885          0.1670        0.2050  \n",
       "60408          0.3930          0.2000        0.2650  \n",
       "60409          0.5885          0.3575        0.4350  \n",
       "60410          0.1525          0.0910        0.0905  \n",
       "\n",
       "[60411 rows x 11 columns]"
      ]
     },
     "metadata": {},
     "output_type": "display_data"
    }
   ],
   "source": [
    "new_cols = pd.DataFrame(OHE.transform(test_df[[\"Sex\"]]), columns=OHE.get_feature_names_out())\n",
    "new_cols.index = test_df.index\n",
    "test = pd.concat([new_cols, test_df.drop([\"Sex\"], axis=1, inplace=False)], axis=1)\n",
    "display(test)"
   ]
  },
  {
   "cell_type": "code",
   "execution_count": 58,
   "metadata": {},
   "outputs": [
    {
     "data": {
      "text/html": [
       "<div>\n",
       "<style scoped>\n",
       "    .dataframe tbody tr th:only-of-type {\n",
       "        vertical-align: middle;\n",
       "    }\n",
       "\n",
       "    .dataframe tbody tr th {\n",
       "        vertical-align: top;\n",
       "    }\n",
       "\n",
       "    .dataframe thead th {\n",
       "        text-align: right;\n",
       "    }\n",
       "</style>\n",
       "<table border=\"1\" class=\"dataframe\">\n",
       "  <thead>\n",
       "    <tr style=\"text-align: right;\">\n",
       "      <th></th>\n",
       "      <th>id</th>\n",
       "      <th>Rings</th>\n",
       "    </tr>\n",
       "  </thead>\n",
       "  <tbody>\n",
       "    <tr>\n",
       "      <th>0</th>\n",
       "      <td>90615</td>\n",
       "      <td>9.731144</td>\n",
       "    </tr>\n",
       "    <tr>\n",
       "      <th>1</th>\n",
       "      <td>90616</td>\n",
       "      <td>9.669113</td>\n",
       "    </tr>\n",
       "    <tr>\n",
       "      <th>2</th>\n",
       "      <td>90617</td>\n",
       "      <td>10.247894</td>\n",
       "    </tr>\n",
       "    <tr>\n",
       "      <th>3</th>\n",
       "      <td>90618</td>\n",
       "      <td>10.389184</td>\n",
       "    </tr>\n",
       "    <tr>\n",
       "      <th>4</th>\n",
       "      <td>90619</td>\n",
       "      <td>7.571981</td>\n",
       "    </tr>\n",
       "    <tr>\n",
       "      <th>...</th>\n",
       "      <td>...</td>\n",
       "      <td>...</td>\n",
       "    </tr>\n",
       "    <tr>\n",
       "      <th>60406</th>\n",
       "      <td>151021</td>\n",
       "      <td>6.380426</td>\n",
       "    </tr>\n",
       "    <tr>\n",
       "      <th>60407</th>\n",
       "      <td>151022</td>\n",
       "      <td>9.232546</td>\n",
       "    </tr>\n",
       "    <tr>\n",
       "      <th>60408</th>\n",
       "      <td>151023</td>\n",
       "      <td>11.889941</td>\n",
       "    </tr>\n",
       "    <tr>\n",
       "      <th>60409</th>\n",
       "      <td>151024</td>\n",
       "      <td>13.525413</td>\n",
       "    </tr>\n",
       "    <tr>\n",
       "      <th>60410</th>\n",
       "      <td>151025</td>\n",
       "      <td>8.771242</td>\n",
       "    </tr>\n",
       "  </tbody>\n",
       "</table>\n",
       "<p>60411 rows × 2 columns</p>\n",
       "</div>"
      ],
      "text/plain": [
       "           id      Rings\n",
       "0       90615   9.731144\n",
       "1       90616   9.669113\n",
       "2       90617  10.247894\n",
       "3       90618  10.389184\n",
       "4       90619   7.571981\n",
       "...       ...        ...\n",
       "60406  151021   6.380426\n",
       "60407  151022   9.232546\n",
       "60408  151023  11.889941\n",
       "60409  151024  13.525413\n",
       "60410  151025   8.771242\n",
       "\n",
       "[60411 rows x 2 columns]"
      ]
     },
     "metadata": {},
     "output_type": "display_data"
    }
   ],
   "source": [
    "result = lgbm_model.predict(test.drop([\"id\", \"Sex_M\"], axis=1))\n",
    "result_df = pd.DataFrame(result, columns=[\"Rings\"])\n",
    "submission = pd.concat([test[\"id\"], result_df], axis=1)\n",
    "display(submission)\n",
    "submission.to_csv(\"submission/submission.csv\", index=False)"
   ]
  },
  {
   "cell_type": "code",
   "execution_count": 59,
   "metadata": {},
   "outputs": [
    {
     "name": "stdout",
     "output_type": "stream",
     "text": [
      "Warning: Looks like you're using an outdated API Version, please consider updating (server 1.6.11 / client 1.6.6)\n",
      "Successfully submitted to Regression with an Abalone Dataset\n"
     ]
    },
    {
     "name": "stderr",
     "output_type": "stream",
     "text": [
      "\n",
      "  0%|          | 0.00/1.50M [00:00<?, ?B/s]\n",
      "  1%|          | 8.00k/1.50M [00:00<01:03, 24.8kB/s]\n",
      " 28%|██▊       | 432k/1.50M [00:00<00:00, 1.31MB/s] \n",
      " 70%|███████   | 1.05M/1.50M [00:00<00:00, 2.84MB/s]\n",
      "100%|██████████| 1.50M/1.50M [00:01<00:00, 972kB/s] \n"
     ]
    }
   ],
   "source": [
    "#!kaggle competitions submit -c playground-series-s4e4 -f submission/submission.csv -m \"First submission\""
   ]
  }
 ],
 "metadata": {
  "kernelspec": {
   "display_name": "Python 3",
   "language": "python",
   "name": "python3"
  },
  "language_info": {
   "codemirror_mode": {
    "name": "ipython",
    "version": 3
   },
   "file_extension": ".py",
   "mimetype": "text/x-python",
   "name": "python",
   "nbconvert_exporter": "python",
   "pygments_lexer": "ipython3",
   "version": "3.11.9"
  }
 },
 "nbformat": 4,
 "nbformat_minor": 2
}
